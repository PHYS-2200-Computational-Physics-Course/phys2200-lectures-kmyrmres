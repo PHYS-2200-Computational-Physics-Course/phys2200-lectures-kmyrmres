{
 "cells": [
  {
   "cell_type": "code",
   "execution_count": null,
   "id": "e58a77e3-559b-48dd-9ac5-8d14d51bb136",
   "metadata": {},
   "outputs": [],
   "source": []
  }
 ],
 "metadata": {
  "kernelspec": {
   "display_name": "Julia 1.11.6",
   "language": "julia",
   "name": "julia-1.11"
  },
  "language_info": {
   "file_extension": ".jl",
   "mimetype": "application/julia",
   "name": "julia",
   "version": "1.11.6"
  }
 },
 "nbformat": 4,
 "nbformat_minor": 5
}
