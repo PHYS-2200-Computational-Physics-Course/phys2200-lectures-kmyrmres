{
 "cells": [
  {
   "cell_type": "code",
   "execution_count": 2,
   "id": "08242c83-3125-46ca-866d-f8ae2accb94b",
   "metadata": {},
   "outputs": [
    {
     "name": "stderr",
     "output_type": "stream",
     "text": [
      "\u001b[32m\u001b[1m   Resolving\u001b[22m\u001b[39m package versions...\n",
      "\u001b[32m\u001b[1m  No Changes\u001b[22m\u001b[39m to `/workspaces/phys2200-lectures-kmyrmres/Project.toml`\n",
      "\u001b[32m\u001b[1m  No Changes\u001b[22m\u001b[39m to `/workspaces/phys2200-lectures-kmyrmres/Manifest.toml`\n",
      "\u001b[92m\u001b[1mPrecompiling\u001b[22m\u001b[39m project...\n",
      "    639.9 ms\u001b[32m  ✓ \u001b[39m\u001b[90mLaTeXStrings\u001b[39m\n",
      "    648.4 ms\u001b[32m  ✓ \u001b[39m\u001b[90mReexport\u001b[39m\n",
      "   1009.3 ms\u001b[32m  ✓ \u001b[39m\u001b[90mStatistics\u001b[39m\n",
      "    908.7 ms\u001b[32m  ✓ \u001b[39mDelimitedFiles\n",
      "   4051.0 ms\u001b[32m  ✓ \u001b[39m\u001b[90mMacroTools\u001b[39m\n",
      "   3899.0 ms\u001b[32m  ✓ \u001b[39m\u001b[90mFixedPointNumbers\u001b[39m\n",
      "   1695.0 ms\u001b[32m  ✓ \u001b[39m\u001b[90mColorTypes\u001b[39m\n",
      "   1085.3 ms\u001b[32m  ✓ \u001b[39m\u001b[90mColorTypes → StyledStringsExt\u001b[39m\n",
      "   8346.6 ms\u001b[32m  ✓ \u001b[39m\u001b[90mColors\u001b[39m\n",
      "  18466.2 ms\u001b[32m  ✓ \u001b[39m\u001b[90mPyCall\u001b[39m\n",
      "   4082.2 ms\u001b[32m  ✓ \u001b[39mPyPlot\n",
      "  11 dependencies successfully precompiled in 29 seconds. 42 already precompiled.\n"
     ]
    }
   ],
   "source": [
    "] add DelimitedFiles"
   ]
  },
  {
   "cell_type": "code",
   "execution_count": 1,
   "id": "ea76d6b2-3806-41d1-895b-6e2c3a5e33f6",
   "metadata": {},
   "outputs": [],
   "source": [
    "using DelimitedFiles\n",
    "using PyPlot"
   ]
  },
  {
   "cell_type": "code",
   "execution_count": 2,
   "id": "7e6d5050-c39c-44a4-a2bc-b00747b27c64",
   "metadata": {},
   "outputs": [
    {
     "data": {
      "text/plain": [
       "\"https://www.phys.uconn.edu/~rozman/Courses/P2200_25F/downloads/trinity-test.data\""
      ]
     },
     "execution_count": 2,
     "metadata": {},
     "output_type": "execute_result"
    }
   ],
   "source": [
    "url = \"https://www.phys.uconn.edu/~rozman/Courses/P2200_25F/downloads/trinity-test.data\""
   ]
  },
  {
   "cell_type": "code",
   "execution_count": 3,
   "id": "e9990285-e428-4f3a-a90b-e0d4504c5a35",
   "metadata": {},
   "outputs": [
    {
     "data": {
      "text/plain": [
       "\"/tmp/jl_IBuFkvkF2N\""
      ]
     },
     "execution_count": 3,
     "metadata": {},
     "output_type": "execute_result"
    }
   ],
   "source": [
    " obsevations = download(url)"
   ]
  },
  {
   "cell_type": "code",
   "execution_count": 4,
   "id": "a398ff04-b7b3-4c5f-85dd-ecf50cee8138",
   "metadata": {
    "scrolled": true
   },
   "outputs": [
    {
     "data": {
      "text/plain": [
       "25×2 Matrix{Float64}:\n",
       "  0.1    11.1\n",
       "  0.24   19.9\n",
       "  0.38   25.4\n",
       "  0.52   28.8\n",
       "  0.66   31.9\n",
       "  0.8    34.2\n",
       "  0.94   36.3\n",
       "  1.08   38.9\n",
       "  1.22   41.0\n",
       "  1.36   42.8\n",
       "  1.5    44.4\n",
       "  1.65   46.0\n",
       "  1.79   46.9\n",
       "  1.93   48.7\n",
       "  3.26   59.0\n",
       "  3.53   61.1\n",
       "  3.8    62.9\n",
       "  4.07   64.3\n",
       "  4.34   65.6\n",
       "  4.61   67.3\n",
       " 15.0   106.5\n",
       " 25.0   130.0\n",
       " 34.0   145.0\n",
       " 53.0   175.0\n",
       " 62.0   185.0"
      ]
     },
     "execution_count": 4,
     "metadata": {},
     "output_type": "execute_result"
    }
   ],
   "source": [
    "dat = readdlm(obsevations, comments=true, comment_char='#')"
   ]
  },
  {
   "cell_type": "code",
   "execution_count": 5,
   "id": "17c54028-9cf1-4103-bb5b-9d5e52b74ad2",
   "metadata": {},
   "outputs": [
    {
     "data": {
      "text/plain": [
       "25-element Vector{Float64}:\n",
       "  0.1\n",
       "  0.24\n",
       "  0.38\n",
       "  0.52\n",
       "  0.66\n",
       "  0.8\n",
       "  0.94\n",
       "  1.08\n",
       "  1.22\n",
       "  1.36\n",
       "  1.5\n",
       "  1.65\n",
       "  1.79\n",
       "  1.93\n",
       "  3.26\n",
       "  3.53\n",
       "  3.8\n",
       "  4.07\n",
       "  4.34\n",
       "  4.61\n",
       " 15.0\n",
       " 25.0\n",
       " 34.0\n",
       " 53.0\n",
       " 62.0"
      ]
     },
     "execution_count": 5,
     "metadata": {},
     "output_type": "execute_result"
    }
   ],
   "source": [
    "time = dat[:, 1]     # time in ms"
   ]
  },
  {
   "cell_type": "code",
   "execution_count": 6,
   "id": "96d3d4fa-d290-4fe3-8bd7-c20c881d9103",
   "metadata": {},
   "outputs": [
    {
     "data": {
      "text/plain": [
       "25-element Vector{Float64}:\n",
       "  11.1\n",
       "  19.9\n",
       "  25.4\n",
       "  28.8\n",
       "  31.9\n",
       "  34.2\n",
       "  36.3\n",
       "  38.9\n",
       "  41.0\n",
       "  42.8\n",
       "  44.4\n",
       "  46.0\n",
       "  46.9\n",
       "  48.7\n",
       "  59.0\n",
       "  61.1\n",
       "  62.9\n",
       "  64.3\n",
       "  65.6\n",
       "  67.3\n",
       " 106.5\n",
       " 130.0\n",
       " 145.0\n",
       " 175.0\n",
       " 185.0"
      ]
     },
     "execution_count": 6,
     "metadata": {},
     "output_type": "execute_result"
    }
   ],
   "source": [
    "radius = dat[:, 2]   # radius in m"
   ]
  },
  {
   "cell_type": "code",
   "execution_count": 7,
   "id": "310a3745-50c5-440f-86eb-a24f8420938c",
   "metadata": {},
   "outputs": [
    {
     "data": {
      "image/png": "[encoded data removed]",
      "text/plain": [
       "Figure(PyObject <Figure size 640x480 with 1 Axes>)"
      ]
     },
     "metadata": {},
     "output_type": "display_data"
    },
    {
     "data": {
      "text/plain": [
       "1-element Vector{PyCall.PyObject}:\n",
       " PyObject <matplotlib.lines.Line2D object at 0x7d93c6a99910>"
      ]
     },
     "execution_count": 7,
     "metadata": {},
     "output_type": "execute_result"
    }
   ],
   "source": [
    "plot(time, radius)"
   ]
  },
  {
   "cell_type": "code",
   "execution_count": 8,
   "id": "4f3f04c4-83e4-4f3f-8e1a-cb2fc7bdbbd1",
   "metadata": {},
   "outputs": [
    {
     "data": {
      "image/png": "[encoded data removed]",
      "text/plain": [
       "Figure(PyObject <Figure size 640x480 with 1 Axes>)"
      ]
     },
     "metadata": {},
     "output_type": "display_data"
    }
   ],
   "source": [
    "loglog(time, radius, \"bo\", label=\"measurements\")\n",
    "grid(true)\n",
    "xlabel(\"t (ms)\")\n",
    "ylabel(\"R (m)\")\n",
    "legend()\n",
    "title(\"Trinity fireball radius as a function of time\");"
   ]
  },
  {
   "cell_type": "code",
   "execution_count": 15,
   "id": "342fe414-c0a4-4acd-8dc3-fa932bcbf710",
   "metadata": {},
   "outputs": [
    {
     "data": {
      "text/plain": [
       "23"
      ]
     },
     "execution_count": 15,
     "metadata": {},
     "output_type": "execute_result"
    }
   ],
   "source": [
    "nm = length(time[3:end])"
   ]
  },
  {
   "cell_type": "code",
   "execution_count": 16,
   "id": "a96676c0-0bb1-4dc3-abe3-536c6ad9b49c",
   "metadata": {},
   "outputs": [
    {
     "data": {
      "text/plain": [
       "1.1363353005466241"
      ]
     },
     "execution_count": 16,
     "metadata": {},
     "output_type": "execute_result"
    }
   ],
   "source": [
    "tlogbar = sum(log.(time[3:end]))/nm"
   ]
  },
  {
   "cell_type": "code",
   "execution_count": 19,
   "id": "03fc5b14-5079-4051-b523-8d91350c2fb0",
   "metadata": {},
   "outputs": [
    {
     "data": {
      "text/plain": [
       "4.063213128797501"
      ]
     },
     "execution_count": 19,
     "metadata": {},
     "output_type": "execute_result"
    }
   ],
   "source": [
    "rlogbar = sum(log.(radius[3:end]))/nm"
   ]
  },
  {
   "cell_type": "code",
   "execution_count": 20,
   "id": "91650b41-81b8-4380-9358-19991d095ce2",
   "metadata": {},
   "outputs": [
    {
     "data": {
      "text/plain": [
       "3.608679008578851"
      ]
     },
     "execution_count": 20,
     "metadata": {},
     "output_type": "execute_result"
    }
   ],
   "source": [
    "alphalogbar = rlogbar - 2/5*tlogbar"
   ]
  },
  {
   "cell_type": "code",
   "execution_count": 22,
   "id": "f8f963d5-c450-480c-b87e-a0e49136ad28",
   "metadata": {},
   "outputs": [
    {
     "data": {
      "text/plain": [
       "4.185e12"
      ]
     },
     "execution_count": 22,
     "metadata": {},
     "output_type": "execute_result"
    }
   ],
   "source": [
    "const scale = 1.0e6\n",
    "const rho = 1.2\n",
    "const tnt = 4.185e12"
   ]
  },
  {
   "cell_type": "code",
   "execution_count": 23,
   "id": "3a381178-be28-4319-b93a-4e6fc687c161",
   "metadata": {},
   "outputs": [
    {
     "data": {
      "text/plain": [
       "36.917253215202955"
      ]
     },
     "execution_count": 23,
     "metadata": {},
     "output_type": "execute_result"
    }
   ],
   "source": [
    "alpha = exp(alphalogbar)"
   ]
  },
  {
   "cell_type": "code",
   "execution_count": 25,
   "id": "e6d0579b-8d4e-4060-b1d3-0bb3c946617d",
   "metadata": {},
   "outputs": [
    {
     "name": "stdout",
     "output_type": "stream",
     "text": [
      "α = 36.92\n"
     ]
    }
   ],
   "source": [
    "println(\"α = $(round(alpha, sigdigits=4))\")"
   ]
  },
  {
   "cell_type": "code",
   "execution_count": 26,
   "id": "c75115fa-ea57-472c-9f31-5d89bd2ece19",
   "metadata": {},
   "outputs": [
    {
     "data": {
      "text/plain": [
       "8.228641619270988e13"
      ]
     },
     "execution_count": 26,
     "metadata": {},
     "output_type": "execute_result"
    }
   ],
   "source": [
    "energyJ = scale * alpha^5 * rho "
   ]
  },
  {
   "cell_type": "code",
   "execution_count": 27,
   "id": "3b6f788a-6c02-45fb-bd2d-4b001c98ed1b",
   "metadata": {},
   "outputs": [
    {
     "name": "stdout",
     "output_type": "stream",
     "text": [
      "E = 8.23e13 Joules\n"
     ]
    }
   ],
   "source": [
    "println(\"E = $(round(energyJ, sigdigits=3)) Joules\")"
   ]
  },
  {
   "cell_type": "code",
   "execution_count": 28,
   "id": "5cd33dd9-f6a2-4540-b344-df71e9e58520",
   "metadata": {},
   "outputs": [
    {
     "data": {
      "text/plain": [
       "19.662226091447998"
      ]
     },
     "execution_count": 28,
     "metadata": {},
     "output_type": "execute_result"
    }
   ],
   "source": [
    "energyT = energyJ / tnt"
   ]
  },
  {
   "cell_type": "code",
   "execution_count": 30,
   "id": "f05f0084-5fcb-4cb2-95d2-7038576cda9b",
   "metadata": {},
   "outputs": [
    {
     "name": "stdout",
     "output_type": "stream",
     "text": [
      "E = 19.7 kilotons of TNT\n"
     ]
    }
   ],
   "source": [
    "println(\"E = $(round(energyT, sigdigits=3)) kilotons of TNT\")"
   ]
  },
  {
   "cell_type": "code",
   "execution_count": 31,
   "id": "7f699967-5954-4ef7-8ba8-a8b378997fa1",
   "metadata": {},
   "outputs": [
    {
     "data": {
      "text/plain": [
       "rad (generic function with 1 method)"
      ]
     },
     "execution_count": 31,
     "metadata": {},
     "output_type": "execute_result"
    }
   ],
   "source": [
    "rad(t, alpha) = alpha * t^(2/5)"
   ]
  },
  {
   "cell_type": "code",
   "execution_count": 32,
   "id": "83e7353c-c24b-4e54-9eb4-128c1b34ae24",
   "metadata": {},
   "outputs": [
    {
     "data": {
      "image/png": "[encoded data removed]",
      "text/plain": [
       "Figure(PyObject <Figure size 640x480 with 1 Axes>)"
      ]
     },
     "metadata": {},
     "output_type": "display_data"
    }
   ],
   "source": [
    "loglog(time, radius, \"bo\", label=\"measurements\")\n",
    "grid(true)\n",
    "xlabel(\"t (ms)\")\n",
    "ylabel(\"R (m)\")\n",
    "legend()\n",
    "title(\"Trinity fireball radius as a function of time\");"
   ]
  },
  {
   "cell_type": "code",
   "execution_count": null,
   "id": "5fdfb197-7572-41e3-85d3-b5246c5d9084",
   "metadata": {},
   "outputs": [],
   "source": []
  }
 ],
 "metadata": {
  "kernelspec": {
   "display_name": "Julia 1.11.6",
   "language": "julia",
   "name": "julia-1.11"
  },
  "language_info": {
   "file_extension": ".jl",
   "mimetype": "application/julia",
   "name": "julia",
   "version": "1.11.6"
  }
 },
 "nbformat": 4,
 "nbformat_minor": 5
}
