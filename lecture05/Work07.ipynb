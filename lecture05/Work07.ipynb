{
 "cells": [
  {
   "cell_type": "code",
   "execution_count": 2,
   "id": "e0a984b1-91c9-4940-acf2-ae9419cc7c4e",
   "metadata": {},
   "outputs": [],
   "source": [
    "using PyPlot"
   ]
  },
  {
   "cell_type": "code",
   "execution_count": 3,
   "id": "1b4f639e-53e8-47c8-b5d1-e9bf18a0e040",
   "metadata": {},
   "outputs": [
    {
     "data": {
      "text/plain": [
       "mylegendre"
      ]
     },
     "execution_count": 3,
     "metadata": {},
     "output_type": "execute_result"
    }
   ],
   "source": [
    "\"\"\"\n",
    "    mylegendre(n, x)\n",
    "\n",
    "Calculate Legendre polynomial P_n(x) using the recurrence relation    \n",
    "(n+1)P_{n+1}(x) = (2*n+1)*x*P_n(x) - n*P_{n-1}(x), and P_0(x) = 1, P_1(x) = x\n",
    "\"\"\"\n",
    "function mylegendre(m, x)\n",
    "\n",
    "    # P_0\n",
    "    pp = 1.0\n",
    "    if m == 0\n",
    "        return pp\n",
    "    end\n",
    "\n",
    "    # P_1\n",
    "    pc = x\n",
    "    if m == 1\n",
    "        return pc\n",
    "    end\n",
    "\n",
    "    # Iteration loop\n",
    "    for n = 1:(m-1)\n",
    "        pn = ((2*n + 1)/(n+1))*x*pc - (n/(n+1))*pp\n",
    "        # Prepare for the next iteration\n",
    "        pp = pc\n",
    "        pc = pn\n",
    "        # pc, pp = ((2*i + 1)*x*pc - i*pp)/(i + 1), pc  # shorter version\n",
    "    end\n",
    "    \n",
    "    return pc\n",
    "    \n",
    "end"
   ]
  },
  {
   "cell_type": "code",
   "execution_count": 4,
   "id": "3fb6bfa5-a2c5-4c39-9a19-49beaa53a475",
   "metadata": {},
   "outputs": [
    {
     "data": {
      "text/plain": [
       "mylegendre (generic function with 1 method)"
      ]
     },
     "execution_count": 4,
     "metadata": {},
     "output_type": "execute_result"
    }
   ],
   "source": [
    "mylegendre"
   ]
  },
  {
   "cell_type": "code",
   "execution_count": 5,
   "id": "48c3e880-c47e-47d4-bc49-9c23ed10a464",
   "metadata": {},
   "outputs": [
    {
     "name": "stdout",
     "output_type": "stream",
     "text": [
      "mylegendre(3, 0.0) = -0.0\n",
      "mylegendre(3, -1.0) = -1.0\n"
     ]
    }
   ],
   "source": [
    "\n",
    "@show mylegendre(3, 0.0);   # must be 0\n",
    "@show mylegendre(3, -1.0);  # must be -1"
   ]
  },
  {
   "cell_type": "code",
   "execution_count": 6,
   "id": "7c759781-d3c7-4cda-ae24-8512465f8201",
   "metadata": {},
   "outputs": [
    {
     "name": "stdout",
     "output_type": "stream",
     "text": [
      "  0.000000 seconds\n"
     ]
    },
    {
     "data": {
      "text/plain": [
       "1.0"
      ]
     },
     "execution_count": 6,
     "metadata": {},
     "output_type": "execute_result"
    }
   ],
   "source": [
    "@time mylegendre(1, 1.0)"
   ]
  },
  {
   "cell_type": "code",
   "execution_count": 7,
   "id": "dca58c28-f860-4357-a2bd-338045c9d90b",
   "metadata": {},
   "outputs": [],
   "source": [
    "np = 100\n",
    "x = range(-1.0, 1.0, np);"
   ]
  },
  {
   "cell_type": "code",
   "execution_count": 13,
   "id": "756512f2-6f3b-4297-9103-6f9efb31ecb8",
   "metadata": {},
   "outputs": [
    {
     "ename": "LoadError",
     "evalue": "syntax: \"mylegendre.((n, x))\" is not a valid function argument name around In[13]:2",
     "output_type": "error",
     "traceback": [
      "syntax: \"mylegendre.((n, x))\" is not a valid function argument name around In[13]:2",
      "",
      "Stacktrace:",
      " [1] top-level scope",
      "\u001b[90m   @\u001b[39m \u001b[90m\u001b[4mIn[13]:1\u001b[24m\u001b[39m"
     ]
    }
   ],
   "source": [
    "for n = [2, 3, 5] #vector given by [a,b,c]\n",
    "    plot(x, mylegendre.(n,x)), label=L\"P_{%$n}(x)\";\n",
    "    #use . before function argument\n",
    "    end\n",
    "grid(true) #adds grid\n",
    "legend();"
   ]
  },
  {
   "cell_type": "code",
   "execution_count": null,
   "id": "e95b3864-13d2-40ae-90cf-29a1b611a865",
   "metadata": {},
   "outputs": [],
   "source": []
  }
 ],
 "metadata": {
  "kernelspec": {
   "display_name": "Julia 1.11.6",
   "language": "julia",
   "name": "julia-1.11"
  },
  "language_info": {
   "file_extension": ".jl",
   "mimetype": "application/julia",
   "name": "julia",
   "version": "1.11.6"
  }
 },
 "nbformat": 4,
 "nbformat_minor": 5
}
